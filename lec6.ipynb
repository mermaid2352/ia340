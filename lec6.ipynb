{
 "cells": [
  {
   "cell_type": "code",
   "execution_count": 2,
   "metadata": {},
   "outputs": [
    {
     "name": "stdout",
     "output_type": "stream",
     "text": [
      "True\n"
     ]
    }
   ],
   "source": [
    "print(\"hello\" in \"hello world\")"
   ]
  },
  {
   "cell_type": "code",
   "execution_count": 4,
   "metadata": {},
   "outputs": [
    {
     "name": "stdout",
     "output_type": "stream",
     "text": [
      "['hello', ' world']\n"
     ]
    }
   ],
   "source": [
    "print('hello, world'.split(\",\"))"
   ]
  },
  {
   "cell_type": "code",
   "execution_count": 7,
   "metadata": {},
   "outputs": [
    {
     "name": "stdout",
     "output_type": "stream",
     "text": [
      "test\n"
     ]
    }
   ],
   "source": [
    "print('test     '.strip())"
   ]
  },
  {
   "cell_type": "code",
   "execution_count": 12,
   "metadata": {},
   "outputs": [],
   "source": [
    "url = 'http://ia-340-gp20-2020-fall.s3-website-us-east-1.amazonaws.com'"
   ]
  },
  {
   "cell_type": "code",
   "execution_count": 20,
   "metadata": {},
   "outputs": [
    {
     "name": "stdout",
     "output_type": "stream",
     "text": [
      "<!DOCTYPE html>\n",
      "\n",
      "<html>\n",
      "    \n",
      "    \n",
      "    <head>\n",
      "        <title>IA 340 </title>\n",
      "    \n",
      "    <style>\n",
      "            dvi.dvi_style{\n",
      "            \n",
      "            background-color:black;\n",
      "                color:white;\n",
      "            }\n",
      "            \n",
      "            span.span_style{\n",
      "                \n",
      "                color:red;\n",
      "            }\n",
      "            \n",
      "        </style>    \n",
      "        \n",
      "    </head>\n",
      "    \n",
      "    <body>\n",
      "        <h1> data mining </h1>\n",
      "        <img src=\"logo_ia340.png\"> \n",
      "        <p> instructor \"Xuebin Wei</p>\n",
      "        <p> website <a href =\"http://www.lbsocial.net\"> lbsocial</a></p>\n",
      "        <div id=\"div1\" class=\"div_style\">\n",
      "            \n",
      "            <h2>Goals of the course </h2>\n",
      "            \n",
      "            <ol>\n",
      "                <li> Understand basic concepts and technologies of data modeling in Relational Database Management System and Structured Query Language </li>\n",
      "                                                \n",
      "                          <li>Understand the basic technologies of Unstructured Database, Cloud Database, Data Warehouse, and Data Lake. </li>\n",
      "                \n",
      "                <li>Be able to collect social media data or other online information from the Internet </li>\n",
      "             \n",
      "            </ol>    \n",
      "            \n",
      "        </div>    \n",
      "        \n",
      "        \n",
      "        <div id=\"div2\">\n",
      "            <h2> schedule</h2>\n",
      "            <table border = \"1\">\n",
      "                <tr>\n",
      "                    <th>date</th>\n",
      "                    <th>topic</th>\n",
      "                </tr>\n",
      "                \n",
      "                <tr>\n",
      "                    <td>week1</td>\n",
      "                    <td>database</td>\n",
      "                </tr>\n",
      "                \n",
      "            </table>\n",
      "            \n",
      "        </div>    \n",
      "            \n",
      "    </body>    \n",
      "    \n",
      "</html>\n"
     ]
    }
   ],
   "source": [
    "import urllib.request\n",
    "\n",
    "response = urllib.request.urlopen(url)\n",
    "\n",
    "html_data=response.read()\n",
    "\n",
    "print(html_data.decode('utf-8'))"
   ]
  },
  {
   "cell_type": "code",
   "execution_count": null,
   "metadata": {},
   "outputs": [],
   "source": []
  }
 ],
 "metadata": {
  "kernelspec": {
   "display_name": "conda_python3",
   "language": "python",
   "name": "conda_python3"
  },
  "language_info": {
   "codemirror_mode": {
    "name": "ipython",
    "version": 3
   },
   "file_extension": ".py",
   "mimetype": "text/x-python",
   "name": "python",
   "nbconvert_exporter": "python",
   "pygments_lexer": "ipython3",
   "version": "3.6.10"
  }
 },
 "nbformat": 4,
 "nbformat_minor": 4
}
